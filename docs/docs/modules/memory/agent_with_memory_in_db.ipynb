{
 "cells": [
  {
   "cell_type": "markdown",
   "id": "fa6802ac",
   "metadata": {},
   "source": [
    "# Message Memory in Agent backed by a database\n",
    "\n",
    "This notebook goes over adding memory to an Agent where the memory uses an external message store. Before going through this notebook, please walkthrough the following notebooks, as this will build on top of both of them:\n",
    "\n",
    "- [Memory in LLMChain](/docs/modules/memory/adding_memory)\n",
    "- [Custom Agents](/docs/modules/agents/how_to/custom_agent)\n",
    "- [Memory in Agent](/docs/modules/memory/agent_with_memory)\n",
    "\n",
    "In order to add a memory with an external message store to an agent we are going to do the following steps:\n",
    "\n",
    "1. We are going to create a `RedisChatMessageHistory` to connect to an external database to store the messages in.\n",
    "2. We are going to create an `LLMChain` using that chat history as memory.\n",
    "3. We are going to use that `LLMChain` to create a custom Agent.\n",
    "\n",
    "For the purposes of this exercise, we are going to create a simple custom Agent that has access to a search tool and utilizes the `ConversationBufferMemory` class."
   ]
  },
  {
   "cell_type": "code",
   "execution_count": 1,
   "id": "8db95912",
   "metadata": {
    "ExecuteTime": {
     "end_time": "2024-04-17T15:19:07.167371Z",
     "start_time": "2024-04-17T15:19:06.179726Z"
    },
    "pycharm": {
     "is_executing": true
    }
   },
   "outputs": [],
   "source": [
    "import os\n",
    "\n",
    "from langchain import hub\n",
    "from langchain.agents import AgentExecutor, Tool\n",
    "from langchain_community.chat_message_histories import RedisChatMessageHistory\n",
    "from langchain_community.utilities import SerpAPIWrapper\n",
    "from langchain_core.runnables.history import RunnableWithMessageHistory\n",
    "from langchain_openai import OpenAI"
   ]
  },
  {
   "cell_type": "code",
   "execution_count": 2,
   "id": "97ad8467",
   "metadata": {
    "ExecuteTime": {
     "end_time": "2024-04-17T15:19:08.240386Z",
     "start_time": "2024-04-17T15:19:08.233094Z"
    }
   },
   "outputs": [],
   "source": [
    "os.environ[\"GOOGLE_API_KEY\"] = \"GOOGLE_API_KEY\"\n",
    "os.environ[\"GOOGLE_CSE_ID\"] = \"GOOGLE_CSE_ID\"\n",
    "os.environ[\"OPENAI_API_KEY\"] = \"OPENAI_API_KEY\"\n",
    "\n",
    "search = SerpAPIWrapper()\n",
    "tools = [\n",
    "    Tool(\n",
    "        name=\"Search\",\n",
    "        func=search.run,\n",
    "        description=\"useful for when you need to answer questions about current events\",\n",
    "    )\n",
    "]"
   ]
  },
  {
   "cell_type": "markdown",
   "id": "4ad2e708",
   "metadata": {},
   "source": [
    "Notice the usage of the `chat_history` variable in the `PromptTemplate`, which matches up with the dynamic key name in the `ConversationBufferMemory`."
   ]
  },
  {
   "cell_type": "code",
   "execution_count": 6,
   "id": "e3439cd6",
   "metadata": {
    "ExecuteTime": {
     "end_time": "2024-04-17T15:19:21.515150Z",
     "start_time": "2024-04-17T15:19:15.549110Z"
    }
   },
   "outputs": [],
   "source": [
    "prompt = hub.pull(\"hwchase17/react\")"
   ]
  },
  {
   "cell_type": "markdown",
   "id": "6d60bbd5",
   "metadata": {},
   "source": [
    "Now we can create the `RedisChatMessageHistory` backed by the database."
   ]
  },
  {
   "cell_type": "code",
   "execution_count": 7,
   "id": "17638dc7",
   "metadata": {
    "ExecuteTime": {
     "end_time": "2024-04-17T15:19:26.689119Z",
     "start_time": "2024-04-17T15:19:26.442469Z"
    }
   },
   "outputs": [],
   "source": [
    "message_history = RedisChatMessageHistory(\n",
    "    url=\"redis://127.0.0.1:6379/0\", ttl=600, session_id=\"my-session\"\n",
    ")"
   ]
  },
  {
   "cell_type": "markdown",
   "id": "0021675b",
   "metadata": {},
   "source": [
    "We can now construct the `LLMChain`, with the Memory object, and then create the agent."
   ]
  },
  {
   "cell_type": "code",
   "execution_count": 8,
   "id": "c56a0e73",
   "metadata": {
    "ExecuteTime": {
     "end_time": "2024-04-17T15:19:29.158350Z",
     "start_time": "2024-04-17T15:19:29.090646Z"
    }
   },
   "outputs": [],
   "source": [
    "from langchain.agents import create_react_agent\n",
    "\n",
    "model = OpenAI()\n",
    "agent = create_react_agent(model, tools, prompt)\n",
    "agent_executor = AgentExecutor(agent=agent, tools=tools, verbose=True)"
   ]
  },
  {
   "cell_type": "code",
   "execution_count": 12,
   "id": "ca4bc1fb",
   "metadata": {
    "ExecuteTime": {
     "end_time": "2024-04-17T15:20:27.186923Z",
     "start_time": "2024-04-17T15:19:51.742185Z"
    }
   },
   "outputs": [
    {
     "name": "stdout",
     "output_type": "stream",
     "text": [
      "\n",
      "\n",
      "\u001B[1m> Entering new AgentExecutor chain...\u001B[0m\n",
      "\u001B[32;1m\u001B[1;3m I should use the Search tool to find the latest population data for Canada.\n",
      "Action: Search\n",
      "Action Input: \"population of canada\"\u001B[0m\u001B[36;1m\u001B[1;3m{'type': 'population_result', 'place': 'Canada', 'population': '38.93 million', 'year': '2022'}\u001B[0m\u001B[32;1m\u001B[1;3mI now know the final answer\n",
      "Final Answer: The final answer to the original input question is 38.93 million people live in Canada as of 2022.\u001B[0m\n",
      "\n",
      "\u001B[1m> Finished chain.\u001B[0m\n"
     ]
    },
    {
     "data": {
      "text/plain": "{'input': 'How many people live in canada?',\n 'chat_history': [],\n 'output': 'The final answer to the original input question is 38.93 million people live in Canada as of 2022.'}"
     },
     "execution_count": 12,
     "metadata": {},
     "output_type": "execute_result"
    }
   ],
   "source": [
    "agent_with_chat_history = RunnableWithMessageHistory(\n",
    "    agent_executor,\n",
    "    # This is needed because in most real world scenarios, a session id is needed\n",
    "    # It isn't really used here because we are using a simple in memory ChatMessageHistory\n",
    "    lambda session_id: message_history,\n",
    "    input_messages_key=\"input\",\n",
    "    history_messages_key=\"chat_history\",\n",
    ")\n",
    "\n",
    "agent_with_chat_history.invoke(\n",
    "    {\"input\": \"How many people live in canada?\"},\n",
    "    config={\"configurable\": {\"session_id\": \"<foo>\"}},\n",
    ")"
   ]
  },
  {
   "cell_type": "markdown",
   "id": "45627664",
   "metadata": {},
   "source": [
    "To test the memory of this agent, we can ask a followup question that relies on information in the previous exchange to be answered correctly."
   ]
  },
  {
   "cell_type": "code",
   "execution_count": 13,
   "id": "eecc0462",
   "metadata": {
    "ExecuteTime": {
     "end_time": "2024-04-17T15:20:59.141583Z",
     "start_time": "2024-04-17T15:20:47.717981Z"
    }
   },
   "outputs": [
    {
     "name": "stdout",
     "output_type": "stream",
     "text": [
      "\n",
      "\n",
      "\u001B[1m> Entering new AgentExecutor chain...\u001B[0m\n",
      "\u001B[32;1m\u001B[1;3m There are many countries in the world with different national anthems, so I may need to specify which country's national anthem I am looking for.\n",
      "Action: Search\n",
      "Action Input: \"national anthem\" + country name\u001B[0m\u001B[36;1m\u001B[1;3m['\"Liberté\" (\"Freedom\") · \"Esta É a Nossa Pátria Bem Amada\" (\"This Is Our Beloved Country\") · \"Dear Land of Guyana, of Rivers and Plains\" · \"La Dessalinienne\" (\"Song ...', 'National Anthem of Every Country ; Fiji, “Meda Dau Doka” (“God Bless Fiji”) ; Finland, “Maamme”. (“Our Land”) ; France, “La Marseillaise” (“The Marseillaise”).', 'List of national anthems ; Albania · Hymni i Flamurit · Algeria ; The Bahamas · March On, Bahamaland · Bahrain ; Cambodia · Nokoreach · Cameroon ; Madagascar · Ry ...', 'General information: Hatikvah (the Hope) is now firmly established as the Anthem of the State of Israel as well as the Jewish National Anthem. 1. While yet ...', 'National anthem · Afghanistan · Akrotiri · Albania · Algeria · American Samoa · Andorra · Angola · Anguilla.', 'Background > National anthems: Countries Compared ; DjiboutiDjibouti, Djibouti ; DominicaDominica, Isle of Beauty, Isle of Splendour ; Dominican RepublicDominican ...', \"Today, the total number is massive, with all 193 UN countries having a national anthem. Former and non-UN countries' anthems add to the list. Due to space ...\", '1. United States of America - The Star-Spangled Banner · 2. United Kingdom - God Save the Queen/King · 3. Canada - O Canada · 4. France - La ...', \"Pedro I wrote the song that was used as the national anthem of Brazil from 1822 to 1831. The song is now recognized as the country's official patriotic song. 7.\"]\u001B[0m\u001B[32;1m\u001B[1;3mI now know the final answer\n",
      "Final Answer: The final answer cannot be determined without specifying which country's national anthem is being referred to.\u001B[0m\n",
      "\n",
      "\u001B[1m> Finished chain.\u001B[0m\n"
     ]
    },
    {
     "data": {
      "text/plain": "{'input': 'what is their national anthem called?',\n 'chat_history': [HumanMessage(content='How many people live in canada?'),\n  AIMessage(content='The final answer to the original input question is 38.93 million people live in Canada as of 2022.')],\n 'output': \"The final answer cannot be determined without specifying which country's national anthem is being referred to.\"}"
     },
     "execution_count": 13,
     "metadata": {},
     "output_type": "execute_result"
    }
   ],
   "source": [
    "agent_with_chat_history.invoke(\n",
    "    {\"input\": \"what is their national anthem called?\"},\n",
    "    config={\"configurable\": {\"session_id\": \"<foo>\"}},\n",
    ")"
   ]
  },
  {
   "cell_type": "markdown",
   "id": "cc3d0aa4",
   "metadata": {},
   "source": [
    "We can see that the agent remembered that the previous question was about Canada, and properly asked Google Search what the name of Canada's national anthem was.\n",
    "\n",
    "For fun, let's compare this to an agent that does NOT have memory."
   ]
  },
  {
   "cell_type": "code",
   "execution_count": 14,
   "id": "3359d043",
   "metadata": {
    "ExecuteTime": {
     "end_time": "2024-04-17T15:21:12.756721Z",
     "start_time": "2024-04-17T15:21:12.745830Z"
    }
   },
   "outputs": [],
   "source": [
    "agent = create_react_agent(model, tools, prompt)\n",
    "agent_executor__without_memory = AgentExecutor(agent=agent, tools=tools, verbose=True)"
   ]
  },
  {
   "cell_type": "code",
   "execution_count": 21,
   "id": "970d23df",
   "metadata": {
    "ExecuteTime": {
     "end_time": "2024-04-17T15:23:37.774243Z",
     "start_time": "2024-04-17T15:23:29.655034Z"
    }
   },
   "outputs": [
    {
     "name": "stdout",
     "output_type": "stream",
     "text": [
      "\n",
      "\n",
      "\u001B[1m> Entering new AgentExecutor chain...\u001B[0m\n",
      "\u001B[32;1m\u001B[1;3m To find the number of people living in Canada, I should use a search engine to look for a reliable source.\n",
      "Action: Search\n",
      "Action Input: \"Population of Canada\"\u001B[0m\u001B[36;1m\u001B[1;3m{'type': 'population_result', 'place': 'Canada', 'population': '38.93 million', 'year': '2022'}\u001B[0m\u001B[32;1m\u001B[1;3m38.93 million people live in Canada as of 2022.\n",
      "Final Answer: 38.93 million people live in Canada.\u001B[0m\n",
      "\n",
      "\u001B[1m> Finished chain.\u001B[0m\n"
     ]
    },
    {
     "data": {
      "text/plain": "{'input': 'How many people live in canada?',\n 'output': '38.93 million people live in Canada.'}"
     },
     "execution_count": 21,
     "metadata": {},
     "output_type": "execute_result"
    }
   ],
   "source": [
    "agent_executor__without_memory.invoke({\"input\": \"How many people live in canada?\"})"
   ]
  },
  {
   "cell_type": "code",
   "execution_count": 29,
   "id": "d9ea82f0",
   "metadata": {
    "ExecuteTime": {
     "end_time": "2024-04-17T15:25:53.364206Z",
     "start_time": "2024-04-17T15:25:23.567528Z"
    }
   },
   "outputs": [
    {
     "name": "stdout",
     "output_type": "stream",
     "text": [
      "\n",
      "\n",
      "\u001B[1m> Entering new AgentExecutor chain...\u001B[0m\n",
      "\u001B[32;1m\u001B[1;3m I should always think about what to do\n",
      "Action: Search\n",
      "Action Input: \"national anthem of [country name]\"\u001B[0m\u001B[36;1m\u001B[1;3m['Most nation states have an anthem, defined as \"a song, as of praise, devotion, or patriotism\"; most anthems are either marches or hymns in style.', 'National Anthem of Every Country ; Fiji, “Meda Dau Doka” (“God Bless Fiji”) ; Finland, “Maamme”. (“Our Land”) ; France, “La Marseillaise” (“The Marseillaise”).', 'List of national anthems ; Albania · Hymni i Flamurit · Algeria ; The Bahamas · March On, Bahamaland · Bahrain ; Cambodia · Nokoreach · Cameroon ; Madagascar · Ry ...', 'General Information: First sung in 1844 with the title,. Sang till Norden (Song of the North). Its use as a. National Anthem dates from 1880-90. 1. Thou ancient ...', 'National anthem · Afghanistan · Akrotiri · Albania · Algeria · American Samoa · Andorra · Angola · Anguilla.', 'Background > National anthems: Countries Compared ; IndiaIndia, Jana Gana Mana ( Hail the ruler of all minds ) ; IndonesiaIndonesia, Indonesia Raya ( Great ...', '1. Afghanistan, \"Milli Surood\" (National Anthem) · 2. Armenia, \"Mer Hayrenik\" (Our Fatherland) · 3. Azerbaijan (a transcontinental country with ...', 'National Anthems of all the countries of the world ; Star Spangled Banner with Lyrics, Vocals, and Beautiful Photos. Musicplay ; Russia National ...', 'Himno Nacional del Perú, also known as Marcha Nacional del Perú or Somos libres, was selected as the national anthem of Peru in a public contest. Shortly after ...']\u001B[0m\u001B[32;1m\u001B[1;3mI now know the final answer\n",
      "Final Answer: It depends on the country, but their national anthem can be found by searching \"national anthem of [country name]\".\u001B[0m\n",
      "\n",
      "\u001B[1m> Finished chain.\u001B[0m\n"
     ]
    },
    {
     "data": {
      "text/plain": "{'input': 'what is their national anthem called?',\n 'output': 'It depends on the country, but their national anthem can be found by searching \"national anthem of [country name]\".'}"
     },
     "execution_count": 29,
     "metadata": {},
     "output_type": "execute_result"
    }
   ],
   "source": [
    "agent_executor__without_memory.invoke(\n",
    "    {\"input\": \"what is their national anthem called?\"}\n",
    ")"
   ]
  },
  {
   "cell_type": "code",
   "execution_count": null,
   "id": "5b1f9223",
   "metadata": {},
   "outputs": [],
   "source": []
  }
 ],
 "metadata": {
  "kernelspec": {
   "display_name": "Python 3 (ipykernel)",
   "language": "python",
   "name": "python3"
  },
  "language_info": {
   "codemirror_mode": {
    "name": "ipython",
    "version": 3
   },
   "file_extension": ".py",
   "mimetype": "text/x-python",
   "name": "python",
   "nbconvert_exporter": "python",
   "pygments_lexer": "ipython3",
   "version": "3.10.1"
  }
 },
 "nbformat": 4,
 "nbformat_minor": 5
}
