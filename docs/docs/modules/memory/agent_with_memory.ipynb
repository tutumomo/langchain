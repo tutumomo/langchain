{
 "cells": [
  {
   "cell_type": "markdown",
   "id": "fa6802ac",
   "metadata": {},
   "source": [
    "# Memory in Agent\n",
    "\n",
    "This notebook goes over adding memory to an Agent. Before going through this notebook, please walkthrough the following notebooks, as this will build on top of both of them:\n",
    "\n",
    "- [Memory in LLMChain](/docs/modules/memory/adding_memory)\n",
    "- [Custom Agents](/docs/modules/agents/how_to/custom_agent)\n",
    "\n",
    "In order to add a memory to an agent we are going to perform the following steps:\n",
    "\n",
    "1. We are going to create an `LLMChain` with memory.\n",
    "2. We are going to use that `LLMChain` to create a custom Agent.\n",
    "\n",
    "For the purposes of this exercise, we are going to create a simple custom Agent that has access to a search tool and utilizes the `ConversationBufferMemory` class."
   ]
  },
  {
   "cell_type": "code",
   "execution_count": 1,
   "id": "8db95912",
   "metadata": {
    "ExecuteTime": {
     "end_time": "2024-04-17T15:33:30.133001Z",
     "start_time": "2024-04-17T15:33:29.307719Z"
    }
   },
   "outputs": [],
   "source": [
    "import os\n",
    "\n",
    "from langchain.agents import Tool\n",
    "from langchain_community.utilities import GoogleSearchAPIWrapper"
   ]
  },
  {
   "cell_type": "code",
   "execution_count": 3,
   "id": "97ad8467",
   "metadata": {
    "ExecuteTime": {
     "end_time": "2024-04-17T15:33:33.208064Z",
     "start_time": "2024-04-17T15:33:33.181997Z"
    }
   },
   "outputs": [],
   "source": [
    "os.environ[\"GOOGLE_API_KEY\"] = \"GOOGLE_API_KEY\"\n",
    "os.environ[\"GOOGLE_CSE_ID\"] = \"GOOGLE_CSE_ID\"\n",
    "os.environ[\"OPENAI_API_KEY\"] = \"OPENAI_API_KEY\"\n",
    "search = GoogleSearchAPIWrapper()\n",
    "tools = [\n",
    "    Tool(\n",
    "        name=\"Search\",\n",
    "        func=search.run,\n",
    "        description=\"useful for when you need to answer questions about current events\",\n",
    "    )\n",
    "]"
   ]
  },
  {
   "cell_type": "markdown",
   "id": "4ad2e708",
   "metadata": {},
   "source": [
    "Notice the usage of the `chat_history` variable in the `PromptTemplate`, which matches up with the dynamic key name in the `ConversationBufferMemory`."
   ]
  },
  {
   "cell_type": "code",
   "execution_count": 14,
   "id": "e3439cd6",
   "metadata": {
    "ExecuteTime": {
     "end_time": "2024-04-17T15:34:31.336998Z",
     "start_time": "2024-04-17T15:34:28.165959Z"
    }
   },
   "outputs": [],
   "source": [
    "from langchain import hub\n",
    "from langchain.agents import AgentExecutor, create_react_agent\n",
    "from langchain.memory import ChatMessageHistory\n",
    "\n",
    "prompt = hub.pull(\"hwchase17/react\")\n",
    "\n",
    "memory = ChatMessageHistory(session_id=\"test-session\")"
   ]
  },
  {
   "cell_type": "markdown",
   "id": "0021675b",
   "metadata": {},
   "source": []
  },
  {
   "cell_type": "code",
   "execution_count": 15,
   "id": "c56a0e73",
   "metadata": {
    "ExecuteTime": {
     "end_time": "2024-04-17T15:34:33.331368Z",
     "start_time": "2024-04-17T15:34:33.077316Z"
    }
   },
   "outputs": [],
   "source": [
    "from langchain_core.runnables.history import RunnableWithMessageHistory\n",
    "from langchain_openai import OpenAI\n",
    "\n",
    "llm = OpenAI(temperature=0)\n",
    "agent = create_react_agent(llm, tools, prompt)\n",
    "agent_executor = AgentExecutor(agent=agent, tools=tools)\n",
    "\n",
    "agent_with_chat_history = RunnableWithMessageHistory(\n",
    "    agent_executor,\n",
    "    # This is needed because in most real world scenarios, a session id is needed\n",
    "    # It isn't really used here because we are using a simple in memory ChatMessageHistory\n",
    "    lambda session_id: memory,\n",
    "    input_messages_key=\"input\",\n",
    "    history_messages_key=\"chat_history\",\n",
    ")"
   ]
  },
  {
   "cell_type": "code",
   "execution_count": 16,
   "id": "ca4bc1fb",
   "metadata": {
    "ExecuteTime": {
     "end_time": "2024-04-17T15:34:40.830858Z",
     "start_time": "2024-04-17T15:34:35.831118Z"
    }
   },
   "outputs": [
    {
     "name": "stdout",
     "output_type": "stream",
     "text": [
      "\n",
      "\n",
      "\u001B[1m> Entering new AgentExecutor chain...\u001B[0m\n",
      "\u001B[32;1m\u001B[1;3m I should use the Search tool to find the most recent population data for Canada.\n",
      "Action: Search\n",
      "Action Input: \"population of Canada\"\u001B[0m\u001B[36;1m\u001B[1;3m{'type': 'population_result', 'place': 'Canada', 'population': '38.93 million', 'year': '2022'}\u001B[0m\u001B[32;1m\u001B[1;3m38.93 million people live in Canada as of 2022.\n",
      "Final Answer: 38.93 million\u001B[0m\n",
      "\n",
      "\u001B[1m> Finished chain.\u001B[0m\n"
     ]
    },
    {
     "data": {
      "text/plain": "{'input': 'How many people live in canada?',\n 'chat_history': [],\n 'output': '38.93 million'}"
     },
     "execution_count": 16,
     "metadata": {},
     "output_type": "execute_result"
    }
   ],
   "source": [
    "agent_with_chat_history.invoke(\n",
    "    {\"input\": \"How many people live in canada?\"},\n",
    "    config={\"configurable\": {\"session_id\": \"<foo>\"}},\n",
    ")"
   ]
  },
  {
   "cell_type": "markdown",
   "id": "45627664",
   "metadata": {},
   "source": [
    "To test the memory of this agent, we can ask a followup question that relies on information in the previous exchange to be answered correctly."
   ]
  },
  {
   "cell_type": "code",
   "execution_count": 18,
   "id": "eecc0462",
   "metadata": {
    "ExecuteTime": {
     "end_time": "2024-04-17T15:35:38.358686Z",
     "start_time": "2024-04-17T15:34:51.197752Z"
    }
   },
   "outputs": [
    {
     "name": "stdout",
     "output_type": "stream",
     "text": [
      "\n",
      "\n",
      "\u001B[1m> Entering new AgentExecutor chain...\u001B[0m\n",
      "\u001B[32;1m\u001B[1;3m I should search for the country's name and \"national anthem\"\n",
      "Action: Search\n",
      "Action Input: \"country name\" national anthem\u001B[0m\u001B[36;1m\u001B[1;3m['\"Liberté\" (\"Freedom\") · \"Esta É a Nossa Pátria Bem Amada\" (\"This Is Our Beloved Country\") · \"Dear Land of Guyana, of Rivers and Plains\" · \"La Dessalinienne\" (\"Song ...', 'National Anthem of Every Country ; Fiji, “Meda Dau Doka” (“God Bless Fiji”) ; Finland, “Maamme”. (“Our Land”) ; France, “La Marseillaise” (“The Marseillaise”).', 'List of national anthems ; Albania · Hymni i Flamurit · Algeria ; The Bahamas · March On, Bahamaland · Bahrain ; Cambodia · Nokoreach · Cameroon ; Madagascar · Ry ...', 'General information: Hatikvah (the Hope) is now firmly established as the Anthem of the State of Israel as well as the Jewish National Anthem. 1. While yet ...', 'National anthem · Afghanistan · Akrotiri · Albania · Algeria · American Samoa · Andorra · Angola · Anguilla.', 'Background > National anthems: Countries Compared ; IndonesiaIndonesia, Indonesia Raya ( Great Indonesia ) ; IranIran, Soroud-e Melli-e Jomhouri-e Eslami-e Iran ( ...', '1. Afghanistan, \"Milli Surood\" (National Anthem) · 2. Armenia, \"Mer Hayrenik\" (Our Fatherland) · 3. Azerbaijan (a transcontinental country with ...', 'National Anthems of all the countries of the world ; Star Spangled Banner with Lyrics, Vocals, and Beautiful Photos. Musicplay ; Russia National ...', \"The countries with the ten newest anthem additions adopted them between 2006 to as recently as 2021. Let's take a look: ... Afghanistan's “Dā də bātorāno kor” (“ ...\"]\u001B[0m\u001B[32;1m\u001B[1;3mI now know the final answer\n",
      "Final Answer: The national anthem of a country can be found by searching for the country's name and \"national anthem\".\u001B[0m\n",
      "\n",
      "\u001B[1m> Finished chain.\u001B[0m\n"
     ]
    },
    {
     "data": {
      "text/plain": "{'input': 'what is their national anthem called?',\n 'chat_history': [HumanMessage(content='How many people live in canada?'),\n  AIMessage(content='38.93 million')],\n 'output': 'The national anthem of a country can be found by searching for the country\\'s name and \"national anthem\".'}"
     },
     "execution_count": 18,
     "metadata": {},
     "output_type": "execute_result"
    }
   ],
   "source": [
    "agent_with_chat_history.invoke(\n",
    "    {\"input\": \"what is their national anthem called?\"},\n",
    "    config={\"configurable\": {\"session_id\": \"<foo>\"}},\n",
    ")"
   ]
  },
  {
   "cell_type": "markdown",
   "id": "cc3d0aa4",
   "metadata": {},
   "source": [
    "We can see that the agent remembered that the previous question was about Canada, and properly asked Google Search what the name of Canada's national anthem was.\n",
    "\n",
    "For fun, let's compare this to an agent that does NOT have memory."
   ]
  },
  {
   "cell_type": "code",
   "execution_count": 19,
   "id": "3359d043",
   "metadata": {
    "ExecuteTime": {
     "end_time": "2024-04-17T15:35:38.362341Z",
     "start_time": "2024-04-17T15:35:38.357729Z"
    }
   },
   "outputs": [],
   "source": [
    "agent = create_react_agent(llm, tools, prompt)\n",
    "agent_executor_without_memory = AgentExecutor(agent=agent, tools=tools)"
   ]
  },
  {
   "cell_type": "code",
   "execution_count": 23,
   "id": "970d23df",
   "metadata": {
    "ExecuteTime": {
     "end_time": "2024-04-17T15:38:14.599316Z",
     "start_time": "2024-04-17T15:37:23.698759Z"
    }
   },
   "outputs": [
    {
     "name": "stdout",
     "output_type": "stream",
     "text": [
      "\n",
      "\n",
      "\u001B[1m> Entering new AgentExecutor chain...\u001B[0m\n",
      "\u001B[32;1m\u001B[1;3m I should use the Search tool to find the most recent population data for Canada.\n",
      "Action: Search\n",
      "Action Input: \"population of Canada\"\u001B[0m\u001B[36;1m\u001B[1;3m{'type': 'population_result', 'place': 'Canada', 'population': '38.93 million', 'year': '2022'}\u001B[0m\u001B[32;1m\u001B[1;3mI should check the source of the data to ensure it is reliable.\n",
      "Action: Search\n",
      "Action Input: \"population of Canada source\"\u001B[0m\u001B[36;1m\u001B[1;3mThe 2021 Canadian census enumerated a total population of 36,991,981, an increase of around 5.2 percent over the 2016 figure. It is estimated that Canada's population surpassed 40 million in 2023 and 41 million in 2024.\u001B[0m\u001B[32;1m\u001B[1;3m I now know the final answer.\n",
      "Final Answer: The estimated population of Canada in 2022 is 38.93 million.\u001B[0m\n",
      "\n",
      "\u001B[1m> Finished chain.\u001B[0m\n"
     ]
    },
    {
     "data": {
      "text/plain": "{'input': 'How many people live in canada?',\n 'output': 'The estimated population of Canada in 2022 is 38.93 million.'}"
     },
     "execution_count": 23,
     "metadata": {},
     "output_type": "execute_result"
    }
   ],
   "source": [
    "agent_executor_without_memory.invoke({\"input\": \"How many people live in canada?\"})"
   ]
  },
  {
   "cell_type": "code",
   "execution_count": 24,
   "id": "d9ea82f0",
   "metadata": {
    "ExecuteTime": {
     "end_time": "2024-04-17T15:38:47.056686Z",
     "start_time": "2024-04-17T15:38:22.811930Z"
    }
   },
   "outputs": [
    {
     "name": "stdout",
     "output_type": "stream",
     "text": [
      "\n",
      "\n",
      "\u001B[1m> Entering new AgentExecutor chain...\u001B[0m\n",
      "\u001B[32;1m\u001B[1;3m I should search for the country's name and \"national anthem\"\n",
      "Action: Search\n",
      "Action Input: \"country name\" national anthem\u001B[0m\u001B[36;1m\u001B[1;3m['\"Liberté\" (\"Freedom\") · \"Esta É a Nossa Pátria Bem Amada\" (\"This Is Our Beloved Country\") · \"Dear Land of Guyana, of Rivers and Plains\" · \"La Dessalinienne\" (\"Song ...', 'National Anthem of Every Country ; Fiji, “Meda Dau Doka” (“God Bless Fiji”) ; Finland, “Maamme”. (“Our Land”) ; France, “La Marseillaise” (“The Marseillaise”).', 'List of national anthems ; Albania · Hymni i Flamurit · Algeria ; The Bahamas · March On, Bahamaland · Bahrain ; Cambodia · Nokoreach · Cameroon ; Madagascar · Ry ...', 'General information: Hatikvah (the Hope) is now firmly established as the Anthem of the State of Israel as well as the Jewish National Anthem. 1. While yet ...', 'National anthem · Afghanistan · Akrotiri · Albania · Algeria · American Samoa · Andorra · Angola · Anguilla.', 'Background > National anthems: Countries Compared ; IndonesiaIndonesia, Indonesia Raya ( Great Indonesia ) ; IranIran, Soroud-e Melli-e Jomhouri-e Eslami-e Iran ( ...', '1. Afghanistan, \"Milli Surood\" (National Anthem) · 2. Armenia, \"Mer Hayrenik\" (Our Fatherland) · 3. Azerbaijan (a transcontinental country with ...', 'National Anthems of all the countries of the world ; Star Spangled Banner with Lyrics, Vocals, and Beautiful Photos. Musicplay ; Russia National ...', \"The countries with the ten newest anthem additions adopted them between 2006 to as recently as 2021. Let's take a look: ... Afghanistan's “Dā də bātorāno kor” (“ ...\"]\u001B[0m\u001B[32;1m\u001B[1;3mI now know the final answer\n",
      "Final Answer: The national anthem of Afghanistan is called \"Milli Surood\".\u001B[0m\n",
      "\n",
      "\u001B[1m> Finished chain.\u001B[0m\n"
     ]
    },
    {
     "data": {
      "text/plain": "{'input': 'what is their national anthem called?',\n 'output': 'The national anthem of Afghanistan is called \"Milli Surood\".'}"
     },
     "execution_count": 24,
     "metadata": {},
     "output_type": "execute_result"
    }
   ],
   "source": [
    "agent_executor_without_memory.invoke({\"input\": \"what is their national anthem called?\"})"
   ]
  },
  {
   "cell_type": "code",
   "execution_count": null,
   "id": "5b1f9223",
   "metadata": {},
   "outputs": [],
   "source": []
  }
 ],
 "metadata": {
  "kernelspec": {
   "display_name": "Python 3 (ipykernel)",
   "language": "python",
   "name": "python3"
  },
  "language_info": {
   "codemirror_mode": {
    "name": "ipython",
    "version": 3
   },
   "file_extension": ".py",
   "mimetype": "text/x-python",
   "name": "python",
   "nbconvert_exporter": "python",
   "pygments_lexer": "ipython3",
   "version": "3.10.1"
  }
 },
 "nbformat": 4,
 "nbformat_minor": 5
}
