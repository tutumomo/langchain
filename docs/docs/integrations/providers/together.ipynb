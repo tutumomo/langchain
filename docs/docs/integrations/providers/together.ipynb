{
 "cells": [
  {
   "cell_type": "markdown",
   "metadata": {},
   "source": [
    "# Together AI\n",
    "\n",
    "> [Together AI](https://together.ai) is a cloud platform for building and running generative AI.\n",
    "> \n",
    "> It makes it easy to fine-tune or run leading open-source models with a couple lines of code.\n",
    "> We have integrated the world’s leading open-source models, including `Llama-2`, `RedPajama`, `Falcon`, `Alpaca`, `Stable Diffusion XL`, and more. Read mo\n",
    "\n",
    "## Installation and Setup\n",
    "\n",
    "To use, you'll need an API key which you can find [here](https://api.together.xyz/settings/api-keys).\n",
    "\n",
    "API key can be passed in as init param\n",
    "``together_api_key`` or set as environment variable ``TOGETHER_API_KEY``.\n",
    "\n",
    "See details in the [Together API reference](https://docs.together.ai/reference)\n",
    "\n",
    "You will also need to install the `langchain-together` integration package:"
   ]
  },
  {
   "cell_type": "code",
   "execution_count": null,
   "metadata": {},
   "outputs": [],
   "source": [
    "%pip install --upgrade --quiet langchain-together"
   ]
  },
  {
   "cell_type": "markdown",
   "metadata": {},
   "source": [
    "## LLMs\n",
    "\n",
    "See a [usage example](/docs/integrations/llms/together)."
   ]
  },
  {
   "cell_type": "code",
   "execution_count": 2,
   "metadata": {
    "id": "y8ku6X96sebl"
   },
   "outputs": [],
   "source": [
    "from langchain_together import Together"
   ]
  },
  {
   "cell_type": "markdown",
   "metadata": {
    "execution": {
     "iopub.execute_input": "2024-04-03T18:49:24.701100Z",
     "iopub.status.busy": "2024-04-03T18:49:24.700943Z",
     "iopub.status.idle": "2024-04-03T18:49:24.705570Z",
     "shell.execute_reply": "2024-04-03T18:49:24.704943Z",
     "shell.execute_reply.started": "2024-04-03T18:49:24.701088Z"
    }
   },
   "source": [
    "## Embedding models\n",
    "\n",
    "See a [usage example](/docs/integrations/text_embedding/together)."
   ]
  },
  {
   "cell_type": "code",
   "execution_count": null,
   "metadata": {},
   "outputs": [],
   "source": [
    "from langchain_together.embeddings import TogetherEmbeddings"
   ]
  }
 ],
 "metadata": {
  "colab": {
   "provenance": []
  },
  "kernelspec": {
   "display_name": "Python 3 (ipykernel)",
   "language": "python",
   "name": "python3"
  },
  "language_info": {
   "codemirror_mode": {
    "name": "ipython",
    "version": 3
   },
   "file_extension": ".py",
   "mimetype": "text/x-python",
   "name": "python",
   "nbconvert_exporter": "python",
   "pygments_lexer": "ipython3",
   "version": "3.10.12"
  }
 },
 "nbformat": 4,
 "nbformat_minor": 4
}
