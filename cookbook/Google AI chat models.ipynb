{
 "cells": [
  {
   "cell_type": "markdown",
   "metadata": {},
   "source": [
    "https://python.langchain.com/docs/integrations/chat/google_generative_ai\n",
    "\n",
    "通過 ChatGoogleGenerativeAI langchain-google-genai集成包中的類訪問Google AI gemini 和 gemini-vision 模型以及其他生成模型。\n"
   ]
  },
  {
   "cell_type": "code",
   "execution_count": 1,
   "metadata": {},
   "outputs": [
    {
     "name": "stdout",
     "output_type": "stream",
     "text": [
      "Note: you may need to restart the kernel to use updated packages.\n"
     ]
    },
    {
     "name": "stderr",
     "output_type": "stream",
     "text": [
      "\n",
      "[notice] A new release of pip is available: 23.3.2 -> 24.0\n",
      "[notice] To update, run: python.exe -m pip install --upgrade pip\n"
     ]
    }
   ],
   "source": [
    "%pip install --upgrade --quiet  langchain-google-genai pillow"
   ]
  },
  {
   "cell_type": "code",
   "execution_count": 1,
   "metadata": {},
   "outputs": [],
   "source": [
    "import getpass\n",
    "import os\n",
    "\n",
    "if \"GOOGLE_API_KEY\" not in os.environ:\n",
    "    os.environ[\"GOOGLE_API_KEY\"] = getpass.getpass(\"Provide your Google API Key\")\n",
    "\n"
   ]
  },
  {
   "cell_type": "code",
   "execution_count": null,
   "metadata": {},
   "outputs": [],
   "source": [
    "# 用法示例\n",
    "from langchain_google_genai import ChatGoogleGenerativeAI\n",
    "llm = ChatGoogleGenerativeAI(model=\"gemini-pro\")\n",
    "result = llm.invoke(\"Write a ballad about LangChain in Chinese\")\n",
    "print(result.content)"
   ]
  },
  {
   "cell_type": "code",
   "execution_count": null,
   "metadata": {},
   "outputs": [],
   "source": [
    "# Gemini 目前不支援 SystemMessage ，但可以將其添加到行中的第一個人工消息中。如果需要此類行為，只需設置為 convert_system_message_to_human=True：\n",
    "from langchain_core.messages import HumanMessage, SystemMessage\n",
    "\n",
    "model = ChatGoogleGenerativeAI(model=\"gemini-pro\", convert_system_message_to_human=True)\n",
    "model(\n",
    "    [\n",
    "        SystemMessage(content=\"Answer only yes or no.\"),\n",
    "        HumanMessage(content=\"Is apple a fruit?\"),\n",
    "    ]\n",
    ")"
   ]
  },
  {
   "cell_type": "code",
   "execution_count": null,
   "metadata": {},
   "outputs": [],
   "source": [
    "# 流式處理\n",
    "# ChatGoogleGenerativeAI 原生支援流式處理和批處理。下面是一個示例。\n",
    "for chunk in llm.stream(\"Write a limerick about LLMs.\"):\n",
    "    print(chunk.content)\n",
    "    print(\"---\")\n",
    "# Note that each chunk may contain more than one \"token\""
   ]
  },
  {
   "cell_type": "code",
   "execution_count": null,
   "metadata": {},
   "outputs": [],
   "source": [
    "# 批處理\n",
    "results = llm.batch(\n",
    "    [\n",
    "        \"What's 2+2?\",\n",
    "        \"What's 3+5?\",\n",
    "    ]\n",
    ")\n",
    "for res in results:\n",
    "    print(res.content)"
   ]
  },
  {
   "cell_type": "code",
   "execution_count": null,
   "metadata": {},
   "outputs": [],
   "source": [
    "# 多式聯運支援\n",
    "\"\"\"\n",
    "若要提供圖像，請傳遞內容為 類型的 List[dict] 人工消息，其中每個字典都包含圖像值（類型為 ）或文本（類型為 image_url text ）值。的值 image_url 可以是以下任一值：\n",
    " A public image URL 公共鏡像網址\n",
    " An accessible gcs file (e.g., “gcs://path/to/file.png”) 可存取的 gcs 檔（例如，“gcs://path/to/file.png”）\n",
    " A local file path 本地文件路徑\n",
    " A base64 encoded image (e.g., data:image/png;base64,abcd124) base64 編碼的影像（例如 data:image/png;base64,abcd124 ）\n",
    " A PIL image PIL 映像\n",
    "\"\"\"\n",
    "import requests\n",
    "from IPython.display import Image\n",
    "\n",
    "image_url = \"https://picsum.photos/seed/picsum/300/300\"\n",
    "content = requests.get(image_url).content\n",
    "Image(content)\n",
    "from langchain_core.messages import HumanMessage\n",
    "from langchain_google_genai import ChatGoogleGenerativeAI\n",
    "\n",
    "llm = ChatGoogleGenerativeAI(model=\"gemini-pro-vision\")\n",
    "# example\n",
    "message = HumanMessage(\n",
    "    content=[\n",
    "        {\n",
    "            \"type\": \"text\",\n",
    "            \"text\": \"What's in this image?\",\n",
    "        },  # You can optionally provide text parts\n",
    "        {\"type\": \"image_url\", \"image_url\": image_url},\n",
    "    ]\n",
    ")\n",
    "llm.invoke([message])\n"
   ]
  },
  {
   "cell_type": "code",
   "execution_count": 7,
   "metadata": {},
   "outputs": [],
   "source": [
    "# Gemini 提示常見問題解答\n",
    "\"\"\"\n",
    "截至本文檔編寫之時（2023/12/12），Gemini 對它接受的提示的類型和結構有一些限制。具體說來：\n",
    "-提供多模態（圖像）輸入時，您最多只能收到1條人類“（使用者）類型的消息。您不能傳遞多條訊息（儘管單個人工消息可能有多個內容條目）\n",
    "-不接受系統消息。\n",
    "-對於常規聊天對話，消息必須遵循 human/ai/human/ai 交替模式。您不能按順序提供 2 條 AI 或人工訊息。\n",
    "-如果消息違反了 的安全檢查LLM，則可能會阻止消息。在這種情況下，模型將返回一個空回應。\n",
    "\n",
    "### 安全設置\n",
    "Gemini 型號具有可以覆蓋的預設安全設置。如果您從模型中收到大量「安全警告」 ，您可以嘗試調整模型的 safety_settings 屬性。例如，要關閉危險內容的安全阻止，您可以按如下方式構建：LLM\n",
    "有關可用類別和閾值的枚舉，請參閱 Google 的安全設置類型。\n",
    "https://ai.google.dev/api/python/google/generativeai/types/SafetySettingDict\n",
    "\"\"\"\n",
    "from langchain_google_genai import (\n",
    "    ChatGoogleGenerativeAI,\n",
    "    HarmBlockThreshold,\n",
    "    HarmCategory,\n",
    ")\n",
    "\n",
    "llm = ChatGoogleGenerativeAI(\n",
    "    model=\"gemini-pro\",\n",
    "    safety_settings={\n",
    "        HarmCategory.HARM_CATEGORY_DANGEROUS_CONTENT: HarmBlockThreshold.BLOCK_NONE, \n",
    "        HarmCategory.HARM_CATEGORY_DEROGATORY: HarmBlockThreshold.BLOCK_NONE, # 針對身份和/或受保護屬性的負面或有害評論。\n",
    "        HarmCategory.HARM_CATEGORY_TOXICITY: HarmBlockThreshold.BLOCK_NONE, # 粗魯、不雅或褻瀆的內容。\n",
    "        HarmCategory.HARM_CATEGORY_VIOLENCE: HarmBlockThreshold.BLOCK_NONE, # 描述描述針對個人或群體的暴力的場景，或對血腥的一般描述。\n",
    "        HarmCategory.HARM_CATEGORY_SEXUAL: HarmBlockThreshold.BLOCK_NONE, # 包含對性行為或其他淫穢內容的引用。\n",
    "        HarmCategory.HARM_CATEGORY_MEDICAL: HarmBlockThreshold.BLOCK_NONE, # 促進未經檢查的醫療建議。\n",
    "        HarmCategory.HARM_CATEGORY_DANGEROUS: HarmBlockThreshold.BLOCK_NONE, # 宣揚、助長或鼓勵有害行為的危險內容。\n",
    "        HarmCategory.HARM_CATEGORY_HARASSMENT: HarmBlockThreshold.BLOCK_NONE, # 騷擾內容。\n",
    "        HarmCategory.HARM_CATEGORY_HATE_SPEECH: HarmBlockThreshold.BLOCK_NONE, # 仇恨言論和內容。\n",
    "        HarmCategory.HARM_CATEGORY_SEXUALLY_EXPLICIT: HarmBlockThreshold.BLOCK_NONE, # 露骨色情內容。\n",
    "        HarmCategory.HARM_CATEGORY_DANGEROUS_CONTENT: HarmBlockThreshold.BLOCK_NONE # 危險內容。\n",
    "    },\n",
    ")"
   ]
  },
  {
   "cell_type": "code",
   "execution_count": null,
   "metadata": {},
   "outputs": [],
   "source": [
    "# 其他配置\n",
    "\"\"\"\n",
    "您可以將以下參數傳遞給 ChatGoogleGenerativeAI，以自訂 SDK 的行為：\n",
    "client_options ：要傳遞給Google API用戶端的用戶端選項，例如自定義 client_options[\"api_endpoint\"]\n",
    "https://googleapis.dev/python/google-api-core/latest/client_options.html#module-google.api_core.client_options\n",
    "transport ：要使用的傳輸方法，例如 rest 、 grpc 或 grpc_asyncio 。\n",
    "\"\"\""
   ]
  }
 ],
 "metadata": {
  "kernelspec": {
   "display_name": "venv",
   "language": "python",
   "name": "python3"
  },
  "language_info": {
   "codemirror_mode": {
    "name": "ipython",
    "version": 3
   },
   "file_extension": ".py",
   "mimetype": "text/x-python",
   "name": "python",
   "nbconvert_exporter": "python",
   "pygments_lexer": "ipython3",
   "version": "3.10.11"
  }
 },
 "nbformat": 4,
 "nbformat_minor": 2
}
